{
 "cells": [
  {
   "cell_type": "code",
   "execution_count": 1,
   "id": "ranging-juice",
   "metadata": {},
   "outputs": [
    {
     "name": "stdout",
     "output_type": "stream",
     "text": [
      "env: CUDA_DEVICE_ORDER=PCI_BUS_ID\n",
      "env: CUDA_VISIBLE_DEVICES=0\n",
      "%pylab is deprecated, use %matplotlib inline and import the required libraries.\n",
      "Populating the interactive namespace from numpy and matplotlib\n"
     ]
    }
   ],
   "source": [
    "%env CUDA_DEVICE_ORDER=PCI_BUS_ID\n",
    "%env CUDA_VISIBLE_DEVICES=0\n",
    "%pylab inline\n",
    "%load_ext autoreload\n",
    "%autoreload 2"
   ]
  },
  {
   "cell_type": "code",
   "execution_count": 2,
   "id": "patent-least",
   "metadata": {},
   "outputs": [],
   "source": [
    "import json\n",
    "import torch\n",
    "from tqdm import tqdm\n",
    "import seaborn as sns\n",
    "from sklearn.manifold import TSNE"
   ]
  },
  {
   "cell_type": "code",
   "execution_count": 3,
   "id": "toxic-painting",
   "metadata": {},
   "outputs": [],
   "source": [
    "from ssl_neuron.datasets import GraphDataset\n",
    "from ssl_neuron.utils import plot_neuron, plot_tsne, neighbors_to_adjacency_torch, compute_eig_lapl_torch_batch\n",
    "from ssl_neuron.graphdino import create_model"
   ]
  },
  {
   "cell_type": "markdown",
   "id": "classical-commerce",
   "metadata": {},
   "source": [
    "#### Load config"
   ]
  },
  {
   "cell_type": "code",
   "execution_count": 4,
   "id": "endless-injury",
   "metadata": {},
   "outputs": [],
   "source": [
    "config = json.load(open('../configs/config.json'))"
   ]
  },
  {
   "cell_type": "code",
   "execution_count": 5,
   "id": "73cc8185",
   "metadata": {},
   "outputs": [
    {
     "data": {
      "text/plain": [
       "{'model': {'num_classes': 1000,\n",
       "  'dim': 32,\n",
       "  'depth': 7,\n",
       "  'n_head': 8,\n",
       "  'pos_dim': 32,\n",
       "  'move_avg': 0.999,\n",
       "  'center_avg': 0.9,\n",
       "  'teacher_temp': 0.06},\n",
       " 'data': {'class': 'allen',\n",
       "  'path': '/usr/users/agecker/datasets/neuron_morphology_allen/',\n",
       "  'n_nodes': 200,\n",
       "  'feat_dim': 8,\n",
       "  'batch_size': 64,\n",
       "  'num_workers': 6,\n",
       "  'jitter_var': 1,\n",
       "  'translate_var': 10,\n",
       "  'rotation_axis': 'y',\n",
       "  'n_drop_branch': 10},\n",
       " 'optimizer': {'lr': 0.0001, 'max_iter': 100000, 'exp_decay': 0.5},\n",
       " 'trainer': {'ckpt_dir': 'ssl_neuron/ckpts/',\n",
       "  'save_ckpt_every': 200,\n",
       "  'seed': None}}"
      ]
     },
     "execution_count": 5,
     "metadata": {},
     "output_type": "execute_result"
    }
   ],
   "source": [
    "config"
   ]
  },
  {
   "cell_type": "markdown",
   "id": "australian-difficulty",
   "metadata": {},
   "source": [
    "#### Load model + checkpoint"
   ]
  },
  {
   "cell_type": "code",
   "execution_count": 6,
   "id": "checked-tenant",
   "metadata": {},
   "outputs": [],
   "source": [
    "model = create_model(config)"
   ]
  },
  {
   "cell_type": "code",
   "execution_count": 7,
   "id": "recent-stevens",
   "metadata": {},
   "outputs": [
    {
     "ename": "FileNotFoundError",
     "evalue": "[Errno 2] No such file or directory: '../ckpts/ckpt.pt'",
     "output_type": "error",
     "traceback": [
      "\u001b[0;31m---------------------------------------------------------------------------\u001b[0m",
      "\u001b[0;31mFileNotFoundError\u001b[0m                         Traceback (most recent call last)",
      "Cell \u001b[0;32mIn[7], line 1\u001b[0m\n\u001b[0;32m----> 1\u001b[0m state_dict \u001b[38;5;241m=\u001b[39m \u001b[43mtorch\u001b[49m\u001b[38;5;241;43m.\u001b[39;49m\u001b[43mload\u001b[49m\u001b[43m(\u001b[49m\u001b[38;5;124;43m'\u001b[39;49m\u001b[38;5;124;43m../ckpts/ckpt.pt\u001b[39;49m\u001b[38;5;124;43m'\u001b[39;49m\u001b[43m)\u001b[49m\n",
      "File \u001b[0;32m~/miniconda3/envs/neuron_c4/lib/python3.9/site-packages/torch/serialization.py:771\u001b[0m, in \u001b[0;36mload\u001b[0;34m(f, map_location, pickle_module, weights_only, **pickle_load_args)\u001b[0m\n\u001b[1;32m    768\u001b[0m \u001b[38;5;28;01mif\u001b[39;00m \u001b[38;5;124m'\u001b[39m\u001b[38;5;124mencoding\u001b[39m\u001b[38;5;124m'\u001b[39m \u001b[38;5;129;01mnot\u001b[39;00m \u001b[38;5;129;01min\u001b[39;00m pickle_load_args\u001b[38;5;241m.\u001b[39mkeys():\n\u001b[1;32m    769\u001b[0m     pickle_load_args[\u001b[38;5;124m'\u001b[39m\u001b[38;5;124mencoding\u001b[39m\u001b[38;5;124m'\u001b[39m] \u001b[38;5;241m=\u001b[39m \u001b[38;5;124m'\u001b[39m\u001b[38;5;124mutf-8\u001b[39m\u001b[38;5;124m'\u001b[39m\n\u001b[0;32m--> 771\u001b[0m \u001b[38;5;28;01mwith\u001b[39;00m \u001b[43m_open_file_like\u001b[49m\u001b[43m(\u001b[49m\u001b[43mf\u001b[49m\u001b[43m,\u001b[49m\u001b[43m \u001b[49m\u001b[38;5;124;43m'\u001b[39;49m\u001b[38;5;124;43mrb\u001b[39;49m\u001b[38;5;124;43m'\u001b[39;49m\u001b[43m)\u001b[49m \u001b[38;5;28;01mas\u001b[39;00m opened_file:\n\u001b[1;32m    772\u001b[0m     \u001b[38;5;28;01mif\u001b[39;00m _is_zipfile(opened_file):\n\u001b[1;32m    773\u001b[0m         \u001b[38;5;66;03m# The zipfile reader is going to advance the current file position.\u001b[39;00m\n\u001b[1;32m    774\u001b[0m         \u001b[38;5;66;03m# If we want to actually tail call to torch.jit.load, we need to\u001b[39;00m\n\u001b[1;32m    775\u001b[0m         \u001b[38;5;66;03m# reset back to the original position.\u001b[39;00m\n\u001b[1;32m    776\u001b[0m         orig_position \u001b[38;5;241m=\u001b[39m opened_file\u001b[38;5;241m.\u001b[39mtell()\n",
      "File \u001b[0;32m~/miniconda3/envs/neuron_c4/lib/python3.9/site-packages/torch/serialization.py:270\u001b[0m, in \u001b[0;36m_open_file_like\u001b[0;34m(name_or_buffer, mode)\u001b[0m\n\u001b[1;32m    268\u001b[0m \u001b[38;5;28;01mdef\u001b[39;00m \u001b[38;5;21m_open_file_like\u001b[39m(name_or_buffer, mode):\n\u001b[1;32m    269\u001b[0m     \u001b[38;5;28;01mif\u001b[39;00m _is_path(name_or_buffer):\n\u001b[0;32m--> 270\u001b[0m         \u001b[38;5;28;01mreturn\u001b[39;00m \u001b[43m_open_file\u001b[49m\u001b[43m(\u001b[49m\u001b[43mname_or_buffer\u001b[49m\u001b[43m,\u001b[49m\u001b[43m \u001b[49m\u001b[43mmode\u001b[49m\u001b[43m)\u001b[49m\n\u001b[1;32m    271\u001b[0m     \u001b[38;5;28;01melse\u001b[39;00m:\n\u001b[1;32m    272\u001b[0m         \u001b[38;5;28;01mif\u001b[39;00m \u001b[38;5;124m'\u001b[39m\u001b[38;5;124mw\u001b[39m\u001b[38;5;124m'\u001b[39m \u001b[38;5;129;01min\u001b[39;00m mode:\n",
      "File \u001b[0;32m~/miniconda3/envs/neuron_c4/lib/python3.9/site-packages/torch/serialization.py:251\u001b[0m, in \u001b[0;36m_open_file.__init__\u001b[0;34m(self, name, mode)\u001b[0m\n\u001b[1;32m    250\u001b[0m \u001b[38;5;28;01mdef\u001b[39;00m \u001b[38;5;21m__init__\u001b[39m(\u001b[38;5;28mself\u001b[39m, name, mode):\n\u001b[0;32m--> 251\u001b[0m     \u001b[38;5;28msuper\u001b[39m(_open_file, \u001b[38;5;28mself\u001b[39m)\u001b[38;5;241m.\u001b[39m\u001b[38;5;21m__init__\u001b[39m(\u001b[38;5;28;43mopen\u001b[39;49m\u001b[43m(\u001b[49m\u001b[43mname\u001b[49m\u001b[43m,\u001b[49m\u001b[43m \u001b[49m\u001b[43mmode\u001b[49m\u001b[43m)\u001b[49m)\n",
      "\u001b[0;31mFileNotFoundError\u001b[0m: [Errno 2] No such file or directory: '../ckpts/ckpt.pt'"
     ]
    }
   ],
   "source": [
    "state_dict = torch.load('../ckpts/ckpt.pt')"
   ]
  },
  {
   "cell_type": "code",
   "execution_count": null,
   "id": "silver-produce",
   "metadata": {},
   "outputs": [],
   "source": [
    "model.load_state_dict(state_dict)"
   ]
  },
  {
   "cell_type": "code",
   "execution_count": null,
   "id": "fundamental-stuff",
   "metadata": {},
   "outputs": [],
   "source": [
    "model.eval()\n",
    "model.cuda();"
   ]
  },
  {
   "cell_type": "markdown",
   "id": "olympic-sterling",
   "metadata": {},
   "source": [
    "#### Load dataset"
   ]
  },
  {
   "cell_type": "code",
   "execution_count": null,
   "id": "arabic-motorcycle",
   "metadata": {},
   "outputs": [],
   "source": [
    "dset = GraphDataset(config, mode='all')"
   ]
  },
  {
   "cell_type": "code",
   "execution_count": null,
   "id": "unnecessary-remedy",
   "metadata": {},
   "outputs": [],
   "source": [
    "feat, neigh = dset.__getsingleitem__(0)"
   ]
  },
  {
   "cell_type": "code",
   "execution_count": null,
   "id": "decreased-auction",
   "metadata": {},
   "outputs": [],
   "source": [
    "feat.shape, len(neigh)"
   ]
  },
  {
   "cell_type": "markdown",
   "id": "floral-hamilton",
   "metadata": {},
   "source": [
    "#### Plot neuron"
   ]
  },
  {
   "cell_type": "code",
   "execution_count": null,
   "id": "empirical-tenant",
   "metadata": {},
   "outputs": [],
   "source": [
    "plot_neuron(neigh, feat)"
   ]
  },
  {
   "cell_type": "code",
   "execution_count": null,
   "id": "5c5d04a5",
   "metadata": {},
   "outputs": [],
   "source": [
    "dir(torch.linalg)"
   ]
  },
  {
   "cell_type": "markdown",
   "id": "threatened-assurance",
   "metadata": {},
   "source": [
    "#### Run inference"
   ]
  },
  {
   "cell_type": "code",
   "execution_count": null,
   "id": "interested-function",
   "metadata": {},
   "outputs": [],
   "source": [
    "latents = np.zeros((dset.num_samples, config['model']['dim']))\n",
    "\n",
    "for i in tqdm(range(dset.num_samples)):\n",
    "    feat, neigh = dset.__getsingleitem__(i)\n",
    "    adj = neighbors_to_adjacency_torch(neigh, list(neigh.keys())).float().cuda()[None, ]\n",
    "    lapl = compute_eig_lapl_torch_batch(adj, pos_enc_dim=config['model']['pos_dim']).float().cuda()\n",
    "    feat = torch.from_numpy(feat).float().cuda()[None, ]\n",
    "    \n",
    "    latents[i] = model.student_encoder.forward(feat, adj, lapl)[0].cpu().detach()\n"
   ]
  },
  {
   "cell_type": "code",
   "execution_count": null,
   "id": "moved-magnitude",
   "metadata": {},
   "outputs": [],
   "source": [
    "plt.scatter(np.arange(config['model']['dim']), latents.mean(axis=0))\n",
    "\n",
    "plt.errorbar(np.arange(config['model']['dim']), latents.mean(axis=0), yerr = latents.std(axis=0), fmt='none')"
   ]
  },
  {
   "cell_type": "code",
   "execution_count": null,
   "id": "continuous-chaos",
   "metadata": {
    "jupyter": {
     "source_hidden": true
    }
   },
   "outputs": [],
   "source": [
    "colors = [list(sns.color_palette(\"mako\", n_colors=10)[3])] + [list(sns.color_palette(\"mako\", n_colors=10)[-2])]"
   ]
  },
  {
   "cell_type": "code",
   "execution_count": null,
   "id": "selective-reasoning",
   "metadata": {},
   "outputs": [],
   "source": [
    "z = TSNE(n_components=2, perplexity=30).fit_transform(latents)"
   ]
  },
  {
   "cell_type": "code",
   "execution_count": null,
   "id": "driving-surprise",
   "metadata": {},
   "outputs": [],
   "source": [
    "plot_tsne(z, np.concatenate([np.zeros(200, dtype=int), np.ones(230, dtype=int)]), targets=['aspiny', 'spiny'], colors=[colors[1], colors[0]])"
   ]
  },
  {
   "cell_type": "code",
   "execution_count": null,
   "id": "beneficial-stone",
   "metadata": {},
   "outputs": [],
   "source": []
  }
 ],
 "metadata": {
  "kernelspec": {
   "display_name": "Python 3 (ipykernel)",
   "language": "python",
   "name": "python3"
  },
  "language_info": {
   "codemirror_mode": {
    "name": "ipython",
    "version": 3
   },
   "file_extension": ".py",
   "mimetype": "text/x-python",
   "name": "python",
   "nbconvert_exporter": "python",
   "pygments_lexer": "ipython3",
   "version": "3.9.16"
  }
 },
 "nbformat": 4,
 "nbformat_minor": 5
}
