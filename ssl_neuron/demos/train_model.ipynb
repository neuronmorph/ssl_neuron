{
 "cells": [
  {
   "cell_type": "code",
   "execution_count": 1,
   "id": "driven-robin",
   "metadata": {},
   "outputs": [
    {
     "name": "stdout",
     "output_type": "stream",
     "text": [
      "env: CUDA_DEVICE_ORDER=PCI_BUS_ID\n",
      "env: CUDA_VISIBLE_DEVICES=7\n",
      "%pylab is deprecated, use %matplotlib inline and import the required libraries.\n",
      "Populating the interactive namespace from numpy and matplotlib\n"
     ]
    }
   ],
   "source": [
    "%env CUDA_DEVICE_ORDER=PCI_BUS_ID\n",
    "%env CUDA_VISIBLE_DEVICES=7\n",
    "%pylab inline\n",
    "%load_ext autoreload\n",
    "%autoreload 2"
   ]
  },
  {
   "cell_type": "code",
   "execution_count": 2,
   "id": "about-torture",
   "metadata": {},
   "outputs": [],
   "source": [
    "import json\n",
    "from ssl_neuron.datasets import build_dataloader\n",
    "from ssl_neuron.graphdino import create_model\n",
    "from ssl_neuron.train import Trainer"
   ]
  },
  {
   "cell_type": "code",
   "execution_count": null,
   "id": "217c37c7",
   "metadata": {},
   "outputs": [],
   "source": []
  },
  {
   "cell_type": "markdown",
   "id": "norwegian-albuquerque",
   "metadata": {},
   "source": [
    "#### Load config"
   ]
  },
  {
   "cell_type": "code",
   "execution_count": 24,
   "id": "disabled-removal",
   "metadata": {},
   "outputs": [
    {
     "ename": "FileNotFoundError",
     "evalue": "[Errno 2] No such file or directory: '../configs/config.json'",
     "output_type": "error",
     "traceback": [
      "\u001b[0;31m---------------------------------------------------------------------------\u001b[0m",
      "\u001b[0;31mFileNotFoundError\u001b[0m                         Traceback (most recent call last)",
      "Cell \u001b[0;32mIn[24], line 1\u001b[0m\n\u001b[0;32m----> 1\u001b[0m config \u001b[38;5;241m=\u001b[39m json\u001b[38;5;241m.\u001b[39mload(\u001b[38;5;28;43mopen\u001b[39;49m\u001b[43m(\u001b[49m\u001b[38;5;124;43m'\u001b[39;49m\u001b[38;5;124;43m../configs/config.json\u001b[39;49m\u001b[38;5;124;43m'\u001b[39;49m\u001b[43m)\u001b[49m)\n\u001b[1;32m      2\u001b[0m config\n",
      "File \u001b[0;32m~/miniconda3/envs/neuron_c2/lib/python3.9/site-packages/IPython/core/interactiveshell.py:284\u001b[0m, in \u001b[0;36m_modified_open\u001b[0;34m(file, *args, **kwargs)\u001b[0m\n\u001b[1;32m    277\u001b[0m \u001b[38;5;28;01mif\u001b[39;00m file \u001b[38;5;129;01min\u001b[39;00m {\u001b[38;5;241m0\u001b[39m, \u001b[38;5;241m1\u001b[39m, \u001b[38;5;241m2\u001b[39m}:\n\u001b[1;32m    278\u001b[0m     \u001b[38;5;28;01mraise\u001b[39;00m \u001b[38;5;167;01mValueError\u001b[39;00m(\n\u001b[1;32m    279\u001b[0m         \u001b[38;5;124mf\u001b[39m\u001b[38;5;124m\"\u001b[39m\u001b[38;5;124mIPython won\u001b[39m\u001b[38;5;124m'\u001b[39m\u001b[38;5;124mt let you open fd=\u001b[39m\u001b[38;5;132;01m{\u001b[39;00mfile\u001b[38;5;132;01m}\u001b[39;00m\u001b[38;5;124m by default \u001b[39m\u001b[38;5;124m\"\u001b[39m\n\u001b[1;32m    280\u001b[0m         \u001b[38;5;124m\"\u001b[39m\u001b[38;5;124mas it is likely to crash IPython. If you know what you are doing, \u001b[39m\u001b[38;5;124m\"\u001b[39m\n\u001b[1;32m    281\u001b[0m         \u001b[38;5;124m\"\u001b[39m\u001b[38;5;124myou can use builtins\u001b[39m\u001b[38;5;124m'\u001b[39m\u001b[38;5;124m open.\u001b[39m\u001b[38;5;124m\"\u001b[39m\n\u001b[1;32m    282\u001b[0m     )\n\u001b[0;32m--> 284\u001b[0m \u001b[38;5;28;01mreturn\u001b[39;00m \u001b[43mio_open\u001b[49m\u001b[43m(\u001b[49m\u001b[43mfile\u001b[49m\u001b[43m,\u001b[49m\u001b[43m \u001b[49m\u001b[38;5;241;43m*\u001b[39;49m\u001b[43margs\u001b[49m\u001b[43m,\u001b[49m\u001b[43m \u001b[49m\u001b[38;5;241;43m*\u001b[39;49m\u001b[38;5;241;43m*\u001b[39;49m\u001b[43mkwargs\u001b[49m\u001b[43m)\u001b[49m\n",
      "\u001b[0;31mFileNotFoundError\u001b[0m: [Errno 2] No such file or directory: '../configs/config.json'"
     ]
    }
   ],
   "source": [
    "config = json.load(open('../configs/config.json'))\n",
    "config"
   ]
  },
  {
   "cell_type": "code",
   "execution_count": 15,
   "id": "b083bc88",
   "metadata": {},
   "outputs": [
    {
     "data": {
      "text/plain": [
       "dict"
      ]
     },
     "execution_count": 15,
     "metadata": {},
     "output_type": "execute_result"
    }
   ],
   "source": [
    "type(config)"
   ]
  },
  {
   "cell_type": "code",
   "execution_count": null,
   "id": "cb4e0362",
   "metadata": {},
   "outputs": [],
   "source": [
    "'../ckpts'"
   ]
  },
  {
   "cell_type": "code",
   "execution_count": 18,
   "id": "baab03f9",
   "metadata": {},
   "outputs": [],
   "source": [
    "config['trainer']['ckpt_dir'] = '/srv/user/makhmet1/ssl_neuron/ssl_neuron/ckpts/'"
   ]
  },
  {
   "cell_type": "code",
   "execution_count": 25,
   "id": "306a9c8e",
   "metadata": {},
   "outputs": [
    {
     "data": {
      "text/plain": [
       "{'model': {'num_classes': 1000,\n",
       "  'dim': 32,\n",
       "  'depth': 7,\n",
       "  'n_head': 8,\n",
       "  'pos_dim': 32,\n",
       "  'move_avg': 0.999,\n",
       "  'center_avg': 0.9,\n",
       "  'teacher_temp': 0.06},\n",
       " 'data': {'class': 'allen',\n",
       "  'path': '/usr/users/agecker/datasets/neuron_morphology_allen/',\n",
       "  'n_nodes': 200,\n",
       "  'feat_dim': 8,\n",
       "  'batch_size': 64,\n",
       "  'num_workers': 6,\n",
       "  'jitter_var': 1,\n",
       "  'translate_var': 10,\n",
       "  'rotation_axis': 'y',\n",
       "  'n_drop_branch': 10},\n",
       " 'optimizer': {'lr': 0.0001, 'max_iter': 1000, 'exp_decay': 0.5},\n",
       " 'trainer': {'ckpt_dir': '/srv/user/makhmet1/ssl_neuron/ssl_neuron/ckpts/',\n",
       "  'save_ckpt_every': 50,\n",
       "  'seed': None}}"
      ]
     },
     "execution_count": 25,
     "metadata": {},
     "output_type": "execute_result"
    }
   ],
   "source": [
    "config"
   ]
  },
  {
   "cell_type": "markdown",
   "id": "sharp-cause",
   "metadata": {},
   "source": [
    "#### Load model"
   ]
  },
  {
   "cell_type": "code",
   "execution_count": 20,
   "id": "cosmetic-circulation",
   "metadata": {},
   "outputs": [],
   "source": [
    "model = create_model(config)\n",
    "model.train()\n",
    "model.cuda();"
   ]
  },
  {
   "cell_type": "markdown",
   "id": "insured-colony",
   "metadata": {},
   "source": [
    "#### Load dataset"
   ]
  },
  {
   "cell_type": "code",
   "execution_count": 5,
   "id": "criminal-adventure",
   "metadata": {},
   "outputs": [
    {
     "name": "stderr",
     "output_type": "stream",
     "text": [
      "100%|█████████████████████████████████████████| 387/387 [00:11<00:00, 32.91it/s]\n",
      "100%|███████████████████████████████████████████| 43/43 [00:01<00:00, 33.81it/s]\n"
     ]
    }
   ],
   "source": [
    "dataloaders = build_dataloader(config)"
   ]
  },
  {
   "cell_type": "markdown",
   "id": "sought-ocean",
   "metadata": {},
   "source": [
    "#### Run training"
   ]
  },
  {
   "cell_type": "code",
   "execution_count": 6,
   "id": "056a907f",
   "metadata": {},
   "outputs": [],
   "source": [
    "import torch"
   ]
  },
  {
   "cell_type": "code",
   "execution_count": 8,
   "id": "02ad981d",
   "metadata": {},
   "outputs": [
    {
     "ename": "AttributeError",
     "evalue": "module 'torch.cuda' has no attribute 'is_visible'",
     "output_type": "error",
     "traceback": [
      "\u001b[0;31m---------------------------------------------------------------------------\u001b[0m",
      "\u001b[0;31mAttributeError\u001b[0m                            Traceback (most recent call last)",
      "Cell \u001b[0;32mIn[8], line 1\u001b[0m\n\u001b[0;32m----> 1\u001b[0m \u001b[43mtorch\u001b[49m\u001b[38;5;241;43m.\u001b[39;49m\u001b[43mcuda\u001b[49m\u001b[38;5;241;43m.\u001b[39;49m\u001b[43mis_visible\u001b[49m()\n",
      "\u001b[0;31mAttributeError\u001b[0m: module 'torch.cuda' has no attribute 'is_visible'"
     ]
    }
   ],
   "source": [
    "torch.cuda.visible"
   ]
  },
  {
   "cell_type": "code",
   "execution_count": 9,
   "id": "09879c7b",
   "metadata": {},
   "outputs": [
    {
     "data": {
      "text/plain": [
       "tensor([[1., 1., 1.,  ..., 1., 1., 1.],\n",
       "        [1., 1., 1.,  ..., 1., 1., 1.],\n",
       "        [1., 1., 1.,  ..., 1., 1., 1.],\n",
       "        ...,\n",
       "        [1., 1., 1.,  ..., 1., 1., 1.],\n",
       "        [1., 1., 1.,  ..., 1., 1., 1.],\n",
       "        [1., 1., 1.,  ..., 1., 1., 1.]], device='cuda:0')"
      ]
     },
     "execution_count": 9,
     "metadata": {},
     "output_type": "execute_result"
    }
   ],
   "source": [
    "device = torch.device(0)\n",
    "torch.ones((20000,10000)).to(device)"
   ]
  },
  {
   "cell_type": "code",
   "execution_count": 12,
   "id": "8067b129",
   "metadata": {},
   "outputs": [
    {
     "name": "stdout",
     "output_type": "stream",
     "text": [
      "load_data.ipynb  model_inference.ipynb\ttrain_model.ipynb\r\n"
     ]
    }
   ],
   "source": [
    "!ls"
   ]
  },
  {
   "cell_type": "code",
   "execution_count": 13,
   "id": "044d2086",
   "metadata": {},
   "outputs": [
    {
     "name": "stdout",
     "output_type": "stream",
     "text": [
      "/srv/user/makhmet1/ssl_neuron/ssl_neuron/demos\r\n"
     ]
    }
   ],
   "source": [
    "!pwd\n",
    "/srv/user/makhmet1/ssl_neuron/ssl_neuron/ckpts"
   ]
  },
  {
   "cell_type": "code",
   "execution_count": 14,
   "id": "7d2bda30",
   "metadata": {},
   "outputs": [
    {
     "name": "stdout",
     "output_type": "stream",
     "text": [
      "/srv/user/makhmet1/ssl_neuron/ssl_neuron\n",
      "ckpts\t data\t      demos\t    __init__.py  __pycache__  utils.py\r\n",
      "configs  datasets.py  graphdino.py  main.py\t train.py\r\n"
     ]
    }
   ],
   "source": [
    "%cd .. \n",
    "!ls"
   ]
  },
  {
   "cell_type": "code",
   "execution_count": 21,
   "id": "excellent-sacramento",
   "metadata": {
    "scrolled": true
   },
   "outputs": [],
   "source": [
    "trainer = Trainer(config, model, dataloaders)"
   ]
  },
  {
   "cell_type": "code",
   "execution_count": 22,
   "id": "assured-metallic",
   "metadata": {},
   "outputs": [
    {
     "name": "stdout",
     "output_type": "stream",
     "text": [
      "Epoch 0 | Loss 5.4503\n",
      "Save model after epoch 0 as ckpt_0.pt.\n",
      "Epoch 1 | Loss 5.4889\n",
      "Epoch 2 | Loss 5.6311\n",
      "Epoch 3 | Loss 6.0347\n",
      "Epoch 4 | Loss 6.2736\n",
      "Epoch 5 | Loss 6.4361\n",
      "Epoch 6 | Loss 6.4568\n",
      "Epoch 7 | Loss 6.4168\n",
      "Epoch 8 | Loss 6.3606\n",
      "Epoch 9 | Loss 6.2367\n",
      "Epoch 10 | Loss 6.1624\n",
      "Epoch 11 | Loss 6.0868\n",
      "Epoch 12 | Loss 6.0276\n",
      "Epoch 13 | Loss 5.9595\n",
      "Epoch 14 | Loss 5.8332\n",
      "Epoch 15 | Loss 5.8598\n",
      "Epoch 16 | Loss 5.8079\n",
      "Epoch 17 | Loss 5.7738\n",
      "Epoch 18 | Loss 5.7395\n",
      "Epoch 19 | Loss 5.6530\n",
      "Epoch 20 | Loss 5.6756\n",
      "Epoch 21 | Loss 5.6534\n",
      "Epoch 22 | Loss 5.6026\n",
      "Epoch 23 | Loss 5.5696\n",
      "Epoch 24 | Loss 5.5092\n",
      "Epoch 25 | Loss 5.4923\n",
      "Epoch 26 | Loss 5.4783\n",
      "Epoch 27 | Loss 5.4746\n",
      "Epoch 28 | Loss 5.4292\n",
      "Epoch 29 | Loss 5.3799\n",
      "Epoch 30 | Loss 5.3471\n",
      "Epoch 31 | Loss 5.2913\n",
      "Epoch 32 | Loss 5.2537\n",
      "Epoch 33 | Loss 5.2454\n",
      "Epoch 34 | Loss 5.2270\n",
      "Epoch 35 | Loss 5.1846\n",
      "Epoch 36 | Loss 5.1458\n",
      "Epoch 37 | Loss 5.1492\n",
      "Epoch 38 | Loss 5.1087\n",
      "Epoch 39 | Loss 5.1352\n",
      "Epoch 40 | Loss 5.1841\n",
      "Epoch 41 | Loss 5.1300\n",
      "Epoch 42 | Loss 5.0610\n",
      "Epoch 43 | Loss 4.9833\n",
      "Epoch 44 | Loss 4.9637\n",
      "Epoch 45 | Loss 4.8223\n",
      "Epoch 46 | Loss 4.8646\n",
      "Epoch 47 | Loss 4.8177\n",
      "Epoch 48 | Loss 4.7733\n",
      "Epoch 49 | Loss 4.7267\n",
      "Epoch 50 | Loss 4.7535\n",
      "Save model after epoch 50 as ckpt_50.pt.\n",
      "Epoch 51 | Loss 4.6725\n",
      "Epoch 52 | Loss 4.6495\n",
      "Epoch 53 | Loss 4.6046\n",
      "Epoch 54 | Loss 4.6338\n",
      "Epoch 55 | Loss 4.4693\n",
      "Epoch 56 | Loss 4.3349\n",
      "Epoch 57 | Loss 4.3885\n",
      "Epoch 58 | Loss 4.3196\n",
      "Epoch 59 | Loss 4.3201\n",
      "Epoch 60 | Loss 4.2455\n",
      "Epoch 61 | Loss 4.1521\n",
      "Epoch 62 | Loss 4.1712\n",
      "Epoch 63 | Loss 4.0778\n",
      "Epoch 64 | Loss 3.9508\n",
      "Epoch 65 | Loss 3.8595\n",
      "Epoch 66 | Loss 3.9253\n",
      "Epoch 67 | Loss 3.8447\n",
      "Epoch 68 | Loss 3.8315\n",
      "Epoch 69 | Loss 3.7463\n",
      "Epoch 70 | Loss 3.7179\n",
      "Epoch 71 | Loss 3.6792\n",
      "Epoch 72 | Loss 3.6217\n",
      "Epoch 73 | Loss 3.5467\n",
      "Epoch 74 | Loss 3.4578\n",
      "Epoch 75 | Loss 3.3743\n",
      "Epoch 76 | Loss 3.3821\n",
      "Epoch 77 | Loss 3.3237\n",
      "Epoch 78 | Loss 3.2655\n",
      "Epoch 79 | Loss 3.1212\n",
      "Epoch 80 | Loss 3.1667\n",
      "Epoch 81 | Loss 3.0902\n",
      "Epoch 82 | Loss 3.0460\n",
      "Epoch 83 | Loss 3.0141\n",
      "Epoch 84 | Loss 2.9401\n",
      "Epoch 85 | Loss 2.8537\n",
      "Epoch 86 | Loss 2.7816\n",
      "Epoch 87 | Loss 2.7337\n",
      "Epoch 88 | Loss 2.7424\n",
      "Epoch 89 | Loss 2.6336\n",
      "Epoch 90 | Loss 2.6989\n",
      "Epoch 91 | Loss 2.5848\n",
      "Epoch 92 | Loss 2.5977\n",
      "Epoch 93 | Loss 2.4294\n",
      "Epoch 94 | Loss 2.4397\n",
      "Epoch 95 | Loss 2.4433\n",
      "Epoch 96 | Loss 2.3574\n",
      "Epoch 97 | Loss 2.3130\n",
      "Epoch 98 | Loss 2.2395\n",
      "Epoch 99 | Loss 2.2133\n",
      "Epoch 100 | Loss 2.2635\n",
      "Save model after epoch 100 as ckpt_100.pt.\n",
      "Epoch 101 | Loss 2.1155\n",
      "Epoch 102 | Loss 2.0606\n",
      "Epoch 103 | Loss 2.0832\n",
      "Epoch 104 | Loss 2.0742\n",
      "Epoch 105 | Loss 2.0108\n",
      "Epoch 106 | Loss 1.9710\n",
      "Epoch 107 | Loss 2.0012\n",
      "Epoch 108 | Loss 1.9830\n",
      "Epoch 109 | Loss 1.8234\n",
      "Epoch 110 | Loss 1.9054\n",
      "Epoch 111 | Loss 1.8010\n",
      "Epoch 112 | Loss 1.7701\n",
      "Epoch 113 | Loss 1.7275\n",
      "Epoch 114 | Loss 1.7296\n",
      "Epoch 115 | Loss 1.7243\n",
      "Epoch 116 | Loss 1.7287\n",
      "Epoch 117 | Loss 1.6543\n",
      "Epoch 118 | Loss 1.6338\n",
      "Epoch 119 | Loss 1.5685\n",
      "Epoch 120 | Loss 1.5789\n",
      "Epoch 121 | Loss 1.6106\n",
      "Epoch 122 | Loss 1.6028\n",
      "Epoch 123 | Loss 1.5354\n",
      "Epoch 124 | Loss 1.4853\n",
      "Epoch 125 | Loss 1.4335\n",
      "Epoch 126 | Loss 1.5024\n",
      "Epoch 127 | Loss 1.4427\n",
      "Epoch 128 | Loss 1.4112\n",
      "Epoch 129 | Loss 1.3678\n",
      "Epoch 130 | Loss 1.4008\n",
      "Epoch 131 | Loss 1.4335\n",
      "Epoch 132 | Loss 1.4100\n",
      "Epoch 133 | Loss 1.3780\n",
      "Epoch 134 | Loss 1.3645\n",
      "Epoch 135 | Loss 1.3043\n",
      "Epoch 136 | Loss 1.2785\n",
      "Epoch 137 | Loss 1.3037\n",
      "Epoch 138 | Loss 1.2945\n",
      "Epoch 139 | Loss 1.4010\n",
      "Epoch 140 | Loss 1.2473\n",
      "Epoch 141 | Loss 1.2998\n",
      "Epoch 142 | Loss 1.2785\n",
      "Epoch 143 | Loss 1.2421\n",
      "Epoch 144 | Loss 1.2390\n",
      "Epoch 145 | Loss 1.2207\n",
      "Epoch 146 | Loss 1.2621\n",
      "Epoch 147 | Loss 1.1820\n",
      "Epoch 148 | Loss 1.2650\n",
      "Epoch 149 | Loss 1.2028\n",
      "Epoch 150 | Loss 1.1948\n",
      "Save model after epoch 150 as ckpt_150.pt.\n",
      "Epoch 151 | Loss 1.2731\n",
      "Epoch 152 | Loss 1.1214\n",
      "Epoch 153 | Loss 1.2153\n",
      "Epoch 154 | Loss 1.1360\n",
      "Epoch 155 | Loss 1.2088\n",
      "Epoch 156 | Loss 1.1308\n",
      "Epoch 157 | Loss 1.1736\n",
      "Epoch 158 | Loss 1.0985\n",
      "Epoch 159 | Loss 1.0710\n",
      "Epoch 160 | Loss 1.0318\n",
      "Epoch 161 | Loss 1.0475\n",
      "Epoch 162 | Loss 1.0418\n",
      "Epoch 163 | Loss 1.0763\n",
      "Epoch 164 | Loss 1.0274\n",
      "Epoch 165 | Loss 1.0288\n",
      "Epoch 166 | Loss 1.0561\n"
     ]
    }
   ],
   "source": [
    "trainer.train()"
   ]
  },
  {
   "cell_type": "code",
   "execution_count": null,
   "id": "282e6174",
   "metadata": {},
   "outputs": [],
   "source": []
  }
 ],
 "metadata": {
  "kernelspec": {
   "display_name": "Python 3 (ipykernel)",
   "language": "python",
   "name": "python3"
  },
  "language_info": {
   "codemirror_mode": {
    "name": "ipython",
    "version": 3
   },
   "file_extension": ".py",
   "mimetype": "text/x-python",
   "name": "python",
   "nbconvert_exporter": "python",
   "pygments_lexer": "ipython3",
   "version": "3.9.16"
  }
 },
 "nbformat": 4,
 "nbformat_minor": 5
}
